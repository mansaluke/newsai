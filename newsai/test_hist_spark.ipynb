{
 "cells": [
  {
   "cell_type": "code",
   "execution_count": 1,
   "metadata": {},
   "outputs": [],
   "source": [
    "%config IPCompleter.use_jedi = False\n",
    "%load_ext autoreload\n",
    "%autoreload 2\n",
    "%matplotlib inline"
   ]
  },
  {
   "cell_type": "code",
   "execution_count": 2,
   "metadata": {},
   "outputs": [],
   "source": [
    "#historical\n",
    "# reuters, yahoo, https://github.com/niderhoff/nlp-datasets\n",
    "# current\n",
    "import findspark\n",
    "findspark.init()\n",
    "from newsapi import NewsApiClient\n",
    "import pyspark\n",
    "from pyspark import SparkConf, SparkContext, SQLContext\n",
    "from os import environ\n",
    "import os\n",
    "import pandas as pd\n",
    "from pyspark.ml.feature import *\n",
    "from pyspark.sql.functions import col, udf\n",
    "from pyspark.sql.types import IntegerType"
   ]
  },
  {
   "cell_type": "code",
   "execution_count": 3,
   "metadata": {},
   "outputs": [],
   "source": [
    "def download_dataset(folder_path):\n",
    "    import kaggle as k\n",
    "\n",
    "    kaggle_json_api_key = {\"username\":\"lukemcleary\",\"key\":\"fa6dddf57695be72300b394324ef669f\"}\n",
    "    if environ.get(\"KAGGLE_USERNAME\") is None:\n",
    "        environ[\"KAGGLE_USERNAME\"] = kaggle_json_api_key[\"username\"]\n",
    "    if environ.get(\"KAGGLE_KEY\") is None:\n",
    "        environ[\"KAGGLE_KEY\"] = kaggle_json_api_key[\"key\"]\n",
    "    k.api.authenticate()\n",
    "    k.dataset_download_files('therohk/million-headlines', path=folder_path, unzip=True,quiet =False)    "
   ]
  },
  {
   "cell_type": "code",
   "execution_count": 4,
   "metadata": {},
   "outputs": [],
   "source": [
    "folder_path = 'million-headlines'"
   ]
  },
  {
   "cell_type": "code",
   "execution_count": 5,
   "metadata": {},
   "outputs": [],
   "source": [
    "if not os.path.exists(folder_path):\n",
    "    download_dataset(folder_path)"
   ]
  },
  {
   "cell_type": "code",
   "execution_count": 6,
   "metadata": {},
   "outputs": [],
   "source": [
    "#spark set-up\n",
    "conf = (SparkConf()\n",
    "        .setMaster(\"local\")\n",
    "        .setAppName(\"My app\"))\n",
    "sc = SparkContext(conf=conf)\n",
    "\n",
    "\n",
    "sqlContext = SQLContext(sc)\n",
    "\n",
    "spark = sqlContext.sparkSession.builder.appName(\n",
    "    \"Spark\").getOrCreate()"
   ]
  },
  {
   "cell_type": "code",
   "execution_count": 7,
   "metadata": {},
   "outputs": [],
   "source": [
    "f = os.listdir(folder_path)[0]\n",
    "f_path = os.path.join(folder_path, f)"
   ]
  },
  {
   "cell_type": "code",
   "execution_count": 14,
   "metadata": {},
   "outputs": [
    {
     "name": "stdout",
     "output_type": "stream",
     "text": "2.21 s ± 294 ms per loop (mean ± std. dev. of 7 runs, 1 loop each)\n"
    }
   ],
   "source": [
    "%timeit dfp = pd.read_csv(f_path)"
   ]
  },
  {
   "cell_type": "code",
   "execution_count": 15,
   "metadata": {},
   "outputs": [],
   "source": [
    "dfp = pd.read_csv(f_path)"
   ]
  },
  {
   "cell_type": "code",
   "execution_count": 16,
   "metadata": {},
   "outputs": [
    {
     "data": {
      "text/html": "<div>\n<style scoped>\n    .dataframe tbody tr th:only-of-type {\n        vertical-align: middle;\n    }\n\n    .dataframe tbody tr th {\n        vertical-align: top;\n    }\n\n    .dataframe thead th {\n        text-align: right;\n    }\n</style>\n<table border=\"1\" class=\"dataframe\">\n  <thead>\n    <tr style=\"text-align: right;\">\n      <th></th>\n      <th>publish_date</th>\n      <th>headline_text</th>\n    </tr>\n  </thead>\n  <tbody>\n    <tr>\n      <th>0</th>\n      <td>20030219</td>\n      <td>aba decides against community broadcasting lic...</td>\n    </tr>\n    <tr>\n      <th>1</th>\n      <td>20030219</td>\n      <td>act fire witnesses must be aware of defamation</td>\n    </tr>\n    <tr>\n      <th>2</th>\n      <td>20030219</td>\n      <td>a g calls for infrastructure protection summit</td>\n    </tr>\n    <tr>\n      <th>3</th>\n      <td>20030219</td>\n      <td>air nz staff in aust strike for pay rise</td>\n    </tr>\n    <tr>\n      <th>4</th>\n      <td>20030219</td>\n      <td>air nz strike to affect australian travellers</td>\n    </tr>\n  </tbody>\n</table>\n</div>",
      "text/plain": "   publish_date                                      headline_text\n0      20030219  aba decides against community broadcasting lic...\n1      20030219     act fire witnesses must be aware of defamation\n2      20030219     a g calls for infrastructure protection summit\n3      20030219           air nz staff in aust strike for pay rise\n4      20030219      air nz strike to affect australian travellers"
     },
     "execution_count": 16,
     "metadata": {},
     "output_type": "execute_result"
    }
   ],
   "source": [
    "dfp.head()"
   ]
  },
  {
   "cell_type": "code",
   "execution_count": 17,
   "metadata": {},
   "outputs": [
    {
     "data": {
      "text/plain": "1186018"
     },
     "execution_count": 17,
     "metadata": {},
     "output_type": "execute_result"
    }
   ],
   "source": [
    "dfp.shape[0]"
   ]
  },
  {
   "cell_type": "code",
   "execution_count": 18,
   "metadata": {},
   "outputs": [],
   "source": [
    "#spark"
   ]
  },
  {
   "cell_type": "code",
   "execution_count": 8,
   "metadata": {},
   "outputs": [
    {
     "name": "stdout",
     "output_type": "stream",
     "text": "Wall time: 21.3 s\n"
    }
   ],
   "source": [
    "%time dfs = spark.read.format('csv').option('header', 'true').option('inferSchema', 'true').load(f_path)"
   ]
  },
  {
   "cell_type": "code",
   "execution_count": 9,
   "metadata": {},
   "outputs": [],
   "source": [
    "dfs = spark.read.format('csv').option('header', 'true').option('inferSchema', 'true').load(f_path)"
   ]
  },
  {
   "cell_type": "code",
   "execution_count": 10,
   "metadata": {},
   "outputs": [
    {
     "name": "stdout",
     "output_type": "stream",
     "text": "+------------+--------------------+\n|publish_date|       headline_text|\n+------------+--------------------+\n|    20030219|aba decides again...|\n|    20030219|act fire witnesse...|\n|    20030219|a g calls for inf...|\n|    20030219|air nz staff in a...|\n|    20030219|air nz strike to ...|\n+------------+--------------------+\nonly showing top 5 rows\n\n"
    }
   ],
   "source": [
    "dfs.show(5)"
   ]
  },
  {
   "cell_type": "code",
   "execution_count": 11,
   "metadata": {},
   "outputs": [
    {
     "data": {
      "text/plain": "1186018"
     },
     "execution_count": 11,
     "metadata": {},
     "output_type": "execute_result"
    }
   ],
   "source": [
    "dfs.count()"
   ]
  },
  {
   "cell_type": "code",
   "execution_count": 23,
   "metadata": {},
   "outputs": [],
   "source": [
    "# rows containing 'US'"
   ]
  },
  {
   "cell_type": "code",
   "execution_count": 24,
   "metadata": {},
   "outputs": [
    {
     "data": {
      "text/html": "<div>\n<style scoped>\n    .dataframe tbody tr th:only-of-type {\n        vertical-align: middle;\n    }\n\n    .dataframe tbody tr th {\n        vertical-align: top;\n    }\n\n    .dataframe thead th {\n        text-align: right;\n    }\n</style>\n<table border=\"1\" class=\"dataframe\">\n  <thead>\n    <tr style=\"text-align: right;\">\n      <th></th>\n      <th>publish_date</th>\n      <th>headline_text</th>\n    </tr>\n  </thead>\n  <tbody>\n    <tr>\n      <th>1</th>\n      <td>20030219</td>\n      <td>act fire witnesses must be aware of defamation</td>\n    </tr>\n    <tr>\n      <th>19</th>\n      <td>20030219</td>\n      <td>bushfire victims urged to see centrelink</td>\n    </tr>\n    <tr>\n      <th>34</th>\n      <td>20030219</td>\n      <td>dargo fire threat expected to rise</td>\n    </tr>\n    <tr>\n      <th>48</th>\n      <td>20030219</td>\n      <td>firefighters contain acid spill</td>\n    </tr>\n    <tr>\n      <th>63</th>\n      <td>20030219</td>\n      <td>griffiths under fire over project knock back</td>\n    </tr>\n    <tr>\n      <th>...</th>\n      <td>...</td>\n      <td>...</td>\n    </tr>\n    <tr>\n      <th>1186001</th>\n      <td>20191231</td>\n      <td>sydney new years eve fireworks be replaced by ...</td>\n    </tr>\n    <tr>\n      <th>1186004</th>\n      <td>20191231</td>\n      <td>the fire is engulfing the house: tracey corbin</td>\n    </tr>\n    <tr>\n      <th>1186010</th>\n      <td>20191231</td>\n      <td>victoria bushfire mallacoota residents emergency</td>\n    </tr>\n    <tr>\n      <th>1186011</th>\n      <td>20191231</td>\n      <td>victoria bushfire trapping people in east gipp...</td>\n    </tr>\n    <tr>\n      <th>1186012</th>\n      <td>20191231</td>\n      <td>victorian bushfire emergency mallacoota gippsl...</td>\n    </tr>\n  </tbody>\n</table>\n<p>27372 rows × 2 columns</p>\n</div>",
      "text/plain": "         publish_date                                      headline_text\n1            20030219     act fire witnesses must be aware of defamation\n19           20030219           bushfire victims urged to see centrelink\n34           20030219                 dargo fire threat expected to rise\n48           20030219                    firefighters contain acid spill\n63           20030219       griffiths under fire over project knock back\n...               ...                                                ...\n1186001      20191231  sydney new years eve fireworks be replaced by ...\n1186004      20191231     the fire is engulfing the house: tracey corbin\n1186010      20191231   victoria bushfire mallacoota residents emergency\n1186011      20191231  victoria bushfire trapping people in east gipp...\n1186012      20191231  victorian bushfire emergency mallacoota gippsl...\n\n[27372 rows x 2 columns]"
     },
     "execution_count": 24,
     "metadata": {},
     "output_type": "execute_result"
    }
   ],
   "source": [
    "dfp[dfp.headline_text.str.contains('fire')]"
   ]
  },
  {
   "cell_type": "code",
   "execution_count": 12,
   "metadata": {},
   "outputs": [],
   "source": [
    "dfs.createOrReplaceTempView(\"table\")"
   ]
  },
  {
   "cell_type": "code",
   "execution_count": 13,
   "metadata": {},
   "outputs": [
    {
     "data": {
      "text/plain": "headline_text='iraqs key oil pipeline to turkey hit by fire'),\n Row(publish_date=20030816, headline_text='man charged with murder after fatal house fire'),\n Row(publish_date=20030817, headline_text='12 hurt in french fireworks explosion'),\n Row(publish_date=20030817, headline_text='fire still raging at iraqi oil export pipeline'),\n Row(publish_date=20030817, headline_text='pak fires eight birdies at suspended lpga jamie'),\n Row(publish_date=20030818, headline_text='arson suspected in house fire'),\n Row(publish_date=20030818, headline_text='fire destroys cultural centre'),\n Row(publish_date=20030818, headline_text='firefighters find body in melbourne'),\n Row(publish_date=20030818, headline_text='gunfire resounds across nigerian oil city'),\n Row(publish_date=20030818, headline_text='s korea fires on north korean boat'),\n Row(publish_date=20030818, headline_text='warehouse fire proves difficult for firefighters'),\n Row(publish_date=20030818, headline_text='wood fired up for world cup'),\n Row(publish_date=20030819, headline_text='act ups emergency service funding for fire season'),\n Row(publish_date=20030819, headline_text='extended fishing bans under fire'),\n Row(publish_date=20030819, headline_text='inspection finds fire ravaged store can be rebuilt'),\n Row(publish_date=20030819, headline_text='landowners urged to contact rural fire service'),\n Row(publish_date=20030820, headline_text='factory fire to burn all day'),\n Row(publish_date=20030820, headline_text='firefighters battle inner sydney fire'),\n Row(publish_date=20030820, headline_text='fire ravaged store wants to get back to business'),\n Row(publish_date=20030820, headline_text='govt faces criticism over fire education'),\n Row(publish_date=20030820, headline_text='rare lizard facing fire ant threat'),\n Row(publish_date=20030821, headline_text='calls made for uniform fire evacuation procedures'),\n Row(publish_date=20030821, headline_text='fireworks explosion kills two in southern china'),\n Row(publish_date=20030821, headline_text='health warning issued after inner sydney fire'),\n Row(publish_date=20030821, headline_text='pms quiet diplomacy on china under fire'),\n Row(publish_date=20030821, headline_text='vic bushfire fallout creates jobs'),\n Row(publish_date=20030822, headline_text='alp names fire safety shame list'),\n Row(publish_date=20030822, headline_text='beattie highlights fire safety failures'),\n Row(publish_date=20030822, headline_text='businesses named for fire safety non compliance'),\n Row(publish_date=20030822, headline_text='csiro calls for aerial firefighting review'),\n Row(publish_date=20030822, headline_text='early start considered for bushfire danger period'),\n Row(publish_date=20030822, headline_text='hostels fail fire safety standards'),\n Row(publish_date=20030822, headline_text='man rushed to hospital after house fire rescue'),\n Row(publish_date=20030822, headline_text='pakistan claims indian fire killed two in kashmir'),\n Row(publish_date=20030822, headline_text='qld opposition backs fire safety shame list'),\n Row(publish_date=20030822, headline_text='storm puts out dragons fire'),\n Row(publish_date=20030823, headline_text='canadian fire forces 30000 to flee'),\n Row(publish_date=20030823, headline_text='claim govt overlooking local firms for fire'),\n Row(publish_date=20030824, headline_text='30000 flee canadian forest fire'),\n Row(publish_date=20030824, headline_text='fallen power lines spark house fire during'),\n Row(publish_date=20030824, headline_text='webb fires into contention'),\n Row(publish_date=20030825, headline_text='court told lightening caused majority of bushfires'),\n Row(publish_date=20030826, headline_text='computer systems blamed for bushfire response times'),\n Row(publish_date=20030826, headline_text='fire response times blamed on computer woes'),\n Row(publish_date=20030826, headline_text='fire season preparation begins'),\n Row(publish_date=20030826, headline_text='good response to accommodation fire standards'),\n Row(publish_date=20030827, headline_text='at least 10 dead in china fireworks explosion'),\n Row(publish_date=20030827, headline_text='aust firefighters sent to battle fires in us canada'),\n Row(publish_date=20030827, headline_text='firefighter to join us efforts'),\n Row(publish_date=20030827, headline_text='vic govt under fire over catering bill'),\n Row(publish_date=20030828, headline_text='fed govt under fire over mining approvals process'),\n Row(publish_date=20030828, headline_text='fireworks industry faces new restrictions'),\n Row(publish_date=20030828, headline_text='nsw bushfire inquiry adjourned'),\n Row(publish_date=20030828, headline_text='us ignores arafat ceasefire call'),\n Row(publish_date=20030828, headline_text='wa fire officers to help fight us blazes'),\n Row(publish_date=20030829, headline_text='leaders to consider bushfire inquiry'),\n Row(publish_date=20030829, headline_text='net fishing ban under fire'),\n Row(publish_date=20030830, headline_text='electrical fault blamed for house fire'),\n Row(publish_date=20030830, headline_text='fire damages brisbane office block and nightclub'),\n Row(publish_date=20030830, headline_text='fire disrupts power at the victoria police centre'),\n Row(publish_date=20030830, headline_text='nsw firefighters battle bush blazes'),\n Row(publish_date=20030830, headline_text='police investigate suspicious fire'),\n Row(publish_date=20030830, headline_text='scud fires through to third round'),\n Row(publish_date=20030830, headline_text='shoaib fires pakistan to victory'),\n Row(publish_date=20030831, headline_text='at least 13 killed in taipei fire'),\n Row(publish_date=20030831, headline_text='authorities believe fire was deliberately lit'),\n Row(publish_date=20030831, headline_text='fire crews battle blazes on nsw south coast'),\n Row(publish_date=20030831, headline_text='fire destroys north brisbane school'),\n Row(publish_date=20030831, headline_text='firefighters winning battle against blazes'),\n Row(publish_date=20030831, headline_text='hotel patrons evacuated after fire breaks out'),\n Row(publish_date=20030831, headline_text='house destroyed by fire'),\n Row(publish_date=20030901, headline_text='busy weekend for firefighters'),\n Row(publish_date=20030901, headline_text='woman dies in melbourne house fire'),\n Row(publish_date=20030902, headline_text='earlier start for bushfire danger periods'),\n Row(publish_date=20030903, headline_text='fire continues to burn through sydney school'),\n Row(publish_date=20030903, headline_text='fire service begins kuringai chase burn off'),\n Row(publish_date=20030903, headline_text='greens claim victory in firewood campaign'),\n Row(publish_date=20030904, headline_text='earlier start for bushfire danger period'),\n Row(publish_date=20030904, headline_text='farmers take action over goobang fire'),\n Row(publish_date=20030904, headline_text='fireproof cable set to make safer buildings'),\n Row(publish_date=20030904, headline_text='fire scheme facing funding uncertainty'),\n Row(publish_date=20030904, headline_text='govt under fire over png reform program'),\n Row(publish_date=20030904, headline_text='israeli soldier killed by palestinian gunfire in'),\n Row(publish_date=20030904, headline_text='survey highlights bushfire business cost'),\n Row(publish_date=20030904, headline_text='transport dept under fire over airport breaches'),\n Row(publish_date=20030905, headline_text='firefighters still battling blaze near dutson downs'),\n Row(publish_date=20030905, headline_text='four killed in chinese fireworks factory blast'),\n Row(publish_date=20030906, headline_text='snowy mountains bushfire burns out of control'),\n Row(publish_date=20030908, headline_text='fathers quick thinking saves son from fire'),\n Row(publish_date=20030908, headline_text='israel fires three missiles in gaza raid'),\n Row(publish_date=20030909, headline_text='firefighters discover burning body in vacant lot'),\n Row(publish_date=20030909, headline_text='funeral for last ny firefighter victim of'),\n Row(publish_date=20030911, headline_text='fire destroys historic st kilda pier kiosk'),\n Row(publish_date=20030911, headline_text='firefighters extinguish restaurant blaze'),\n Row(publish_date=20030911, headline_text='five killed in mexican fireworks blast'),\n Row(publish_date=20030911, headline_text='hill under fire over defence force health pay'),\n Row(publish_date=20030911, headline_text='melbourne mourns fire ravaged landmark'),\n Row(publish_date=20030912, headline_text='bushfires blaze across northern nsw southern qld'),\n Row(publish_date=20030912, headline_text='fears flowers carnival may boost fire ant spread'),\n Row(publish_date=20030912, headline_text='fire ban announced ahead of predicted high winds'),\n Row(publish_date=20030912, headline_text='police suspect arson in shopping centre fires'),\n Row(publish_date=20030912, headline_text='porter on fire with aus squad selection'),\n Row(publish_date=20030912, headline_text='porter on fire with aust squad selection'),\n Row(publish_date=20030912, headline_text='qld firefighters battle bush blazes'),\n Row(publish_date=20030913, headline_text='bulldogs braced for fired up warriors'),\n Row(publish_date=20030913, headline_text='bushfire emergency declared in northern nsw'),\n Row(publish_date=20030913, headline_text='children evacuated during sunshine coast bushfires'),\n Row(publish_date=20030913, headline_text='friendly fire kills 10 iraqi police'),\n Row(publish_date=20030914, headline_text='fire crews brace for battle in nsw'),\n Row(publish_date=20030914, headline_text='heavy gunfire erupts as mourners gather in fallujah'),\n Row(publish_date=20030914, headline_text='thirty fires still burning across nsw'),\n Row(publish_date=20030914, headline_text='windy conditions hamper nsw firefighting efforts'),\n Row(publish_date=20030915, headline_text='brigades battle fires in northern nsw'),\n Row(publish_date=20030915, headline_text='firefighters continue battle to contain bushfire'),\n Row(publish_date=20030915, headline_text='firefighters monitor tablelands bushfires'),\n Row(publish_date=20030915, headline_text='fires still burning across northern nsw'),\n Row(publish_date=20030915, headline_text='public warned after fireworks stolen'),\n Row(publish_date=20030915, headline_text='rfs keeps close eye on clarence bushfires'),\n Row(publish_date=20030916, headline_text='arafat aide proposes indefinite ceasefire with'),\n Row(publish_date=20030916, headline_text='earlier start for eurobodalla bushfire danger'),\n Row(publish_date=20030916, headline_text='firefighter inquest begins'),\n Row(publish_date=20030916, headline_text='firefighters home after us efforts'),\n Row(publish_date=20030916, headline_text='firefighters still battling mt sugarloaf blaze'),\n Row(publish_date=20030916, headline_text='fires spark tablelands bushfire emergency'),\n Row(publish_date=20030916, headline_text='tas compo laws draw fire'),\n Row(publish_date=20030916, headline_text='winds may affect bushfire fighting efforts'),\n Row(publish_date=20030917, headline_text='accident cause of fatal saudi prison fire'),\n Row(publish_date=20030917, headline_text='firefighters control cawarral bushfires'),\n Row(publish_date=20030917, headline_text='firies confident about northern bushfires'),\n Row(publish_date=20030917, headline_text='missing bushwalkers found as fire continues to rage'),\n Row(publish_date=20030918, headline_text='batemans bay firefighter returns after battling us'),\n Row(publish_date=20030918, headline_text='canberra communities to receive fire fighting'),\n Row(publish_date=20030918, headline_text='fire crews contain stradbroke blaze'),\n Row(publish_date=20030918, headline_text='fire erupts at iraqi oil pipeline'),\n Row(publish_date=20030918, headline_text='firefighters tackle far north blaze'),\n Row(publish_date=20030918, headline_text='firefighters to scale back bushfire efforts'),\n Row(publish_date=20030918, headline_text='firefighters work to contain straddie fire'),\n Row(publish_date=20030918, headline_text='man to front court on fire charges'),\n Row(publish_date=20030918, headline_text='property owners urged ro remain fire aware'),\n Row(publish_date=20030918, headline_text='qld fire fighters back off stradbroke blaze'),\n Row(publish_date=20030919, headline_text='fire crews gain upper hand in straddie bushfires'),\n Row(publish_date=20030919, headline_text='firefighters continue containment efforts'),\n Row(publish_date=20030919, headline_text='qld prepared for fire season minister says'),\n Row(publish_date=20030919, headline_text='treasurer asked to clarify tax status of bushfire'),\n Row(publish_date=20030919, headline_text='triple ton goodwin fires sussex to historic'),\n Row(publish_date=20030919, headline_text='weather may hamper firefighters efforts'),\n Row(publish_date=20030920, headline_text='fire crews continue to battle blaze on qld island'),\n Row(publish_date=20030920, headline_text='tourists flock to qld island as bushfire continues'),\n Row(publish_date=20030921, headline_text='air clearer but fires continue on straddie'),\n Row(publish_date=20030921, headline_text='crespo spree fires chelsea top'),\n Row(publish_date=20030921, headline_text='fire crews pin hopes on favourable weather'),\n Row(publish_date=20030921, headline_text='phillip island school fire causes 1 million damage'),\n Row(publish_date=20030921, headline_text='stradbroke fires under control'),\n Row(publish_date=20030922, headline_text='israeli troops and hamas gunman exchange fire'),\n Row(publish_date=20030922, headline_text='minister under fire over airport security comments'),\n Row(publish_date=20030922, headline_text='qld continues to swelter as extreme fire danger'),\n Row(publish_date=20030922, headline_text='rfs calls early total fire ban'),\n Row(publish_date=20030922, headline_text='smoke haze no nearby fire threat'),\n Row(publish_date=20030922, headline_text='straddie holidaymakers urged to be fire aware'),\n Row(publish_date=20030922, headline_text='us under fire at aids forum'),\n Row(publish_date=20030923, headline_text='cfa prepares for bushfire season'),\n Row(publish_date=20030923, headline_text='eight dead in venezuela as gang fires on wake'),\n Row(publish_date=20030923, headline_text='firefighters efforts earn cfa praise'),\n Row(publish_date=20030923, headline_text='firemen rescue puppy after four storey leap of'),\n Row(publish_date=20030923, headline_text='tablelands bushfires under scrutiny'),\n Row(publish_date=20030923, headline_text='us forces in fallujah firefight'),\n Row(publish_date=20030924, headline_text='firefighters battle heat and wind'),\n Row(publish_date=20030924, headline_text='island fire threatens homes on nsw north coast'),\n Row(publish_date=20030924, headline_text='nsw island homes saved from bushfire'),\n Row(publish_date=20030924, headline_text='total fire ban for sydney'),\n Row(publish_date=20030925, headline_text='blanket approach taken to firefighters safety'),\n Row(publish_date=20030925, headline_text='bushfire task force wraps up'),\n Row(publish_date=20030925, headline_text='east gippsland fire burning out of control'),\n Row(publish_date=20030925, headline_text='firefighters battle blue mountains blaze'),\n Row(publish_date=20030925, headline_text='firefighters save mount burr home'),\n Row(publish_date=20030925, headline_text='nsw farmers plant trees after fires destroy act'),\n Row(publish_date=20030925, headline_text='nsw firefighters taming central coast blaze'),\n Row(publish_date=20030925, headline_text='nz broadcaster under fire for annan slur'),\n Row(publish_date=20030925, headline_text='papers late after emadvertiserem plant fire'),\n Row(publish_date=20030925, headline_text='public urged to minimise grass fire risks'),\n Row(publish_date=20030925, headline_text='scud fires through in china'),\n Row(publish_date=20030925, headline_text='sex shop holds fire sale before closure'),\n Row(publish_date=20030925, headline_text='shire chief warns of fire risk under forest'),\n Row(publish_date=20030925, headline_text='vanstone under fire from opposition and students'),\n Row(publish_date=20030926, headline_text='british soldier dies in iraqi firearm incident'),\n Row(publish_date=20030926, headline_text='firefighters still battling gippsland blazes'),\n Row(publish_date=20030926, headline_text='fires close main highway through south east vic'),\n Row(publish_date=20030926, headline_text='illegal fires to earn jail or big fines'),\n Row(publish_date=20030926, headline_text='investigators probe cause of south coast fires'),\n Row(publish_date=20030926, headline_text='princes highway remains closed by gippsland fire'),\n Row(publish_date=20030926, headline_text='total fire bans lifted on north coast'),\n Row(publish_date=20030926, headline_text='wa govt under fire over jarrah industry'),\n Row(publish_date=20030927, headline_text='brisbane steps up bushfire prevention measures'),\n Row(publish_date=20030927, headline_text='fire crews close in on blue mountains blaze'),\n Row(publish_date=20030927, headline_text='fire situation worsens on nsw north coast'),\n Row(publish_date=20030927, headline_text='medibanks hospital contracts plan under fire'),\n Row(publish_date=20030927, headline_text='nursing home fire in us kills 7 injures more'),\n Row(publish_date=20030927, headline_text='princes highway to reopen after bushfire'),\n Row(publish_date=20030927, headline_text='three iraqis dead from us gunfire hospital'),\n Row(publish_date=20030928, headline_text='chinese restaurant ordered to pay 34 million to fired'),\n Row(publish_date=20030928, headline_text='family escapes house fire'),\n Row(publish_date=20030928, headline_text='fire at refinery after quake aftershocks hit japan'),\n Row(publish_date=20030928, headline_text='man dies in retirement village fire'),\n Row(publish_date=20030928, headline_text='national park reopens after january bushfires'),\n Row(publish_date=20030928, headline_text='nsw fire service prepares for worsening conditions'),\n Row(publish_date=20030928, headline_text='police question teen over kempsey bushfire'),\n Row(publish_date=20030928, headline_text='se qld fire fighters tackle blazes'),\n Row(publish_date=20030928, headline_text='winds ease as fire fighters continue to battle'),\n Row(publish_date=20030929, headline_text='act hoping to complete back burns before fire'),\n Row(publish_date=20030929, headline_text='baby survives firebomb attack'),\n Row(publish_date=20030929, headline_text='firefighters investigate possible arson near'),\n Row(publish_date=20030929, headline_text='fires still blazing on nsw coast'),\n Row(publish_date=20030929, headline_text='fire warning continues in se qld'),\n Row(publish_date=20030929, headline_text='man to face charges over fire station thefts'),\n Row(publish_date=20030929, headline_text='starters gun fires for uni games in newcastle'),\n Row(publish_date=20030929, headline_text='tablelands fires claim five homes'),\n Row(publish_date=20030930, headline_text='firefighters save homes during blaze'),\n Row(publish_date=20030930, headline_text='fires still burning on northern tablelands'),\n Row(publish_date=20031001, headline_text='investigation begins into fatal mt isa fire'),\n Row(publish_date=20031002, headline_text='rain brings mixed blessing as firefighting'),\n Row(publish_date=20031003, headline_text='broome council wants answers on fire station'),\n Row(publish_date=20031003, headline_text='bushfire may have been cry for help'),\n Row(publish_date=20031003, headline_text='firefighters mourn loss of colleague and family'),\n Row(publish_date=20031003, headline_text='german tv fires audience imagination'),\n Row(publish_date=20031003, headline_text='melbourne warehouse fire causes 3m damage'),\n Row(publish_date=20031003, headline_text='new recruits add fire to townsville squad'),\n Row(publish_date=20031003, headline_text='pakistan test fires short range ballistic missile'),\n Row(publish_date=20031003, headline_text='richardson fires unbeaten 128 in new zealand warm'),\n Row(publish_date=20031004, headline_text='nsw fire chief warns over bush fires'),\n ...]"
     },
     "execution_count": 13,
     "metadata": {},
     "output_type": "execute_result"
    }
   ],
   "source": [
    "spark.sql(r\"SELECT * FROM table where headline_text like '%fire%'\").collect()"
   ]
  },
  {
   "cell_type": "code",
   "execution_count": 14,
   "metadata": {},
   "outputs": [
    {
     "name": "stdout",
     "output_type": "stream",
     "text": "Wall time: 4.45 s\n"
    },
    {
     "data": {
      "text/plain": "[Row(publish_date=20130522, headline_text='84yo dead after crashing into sydney house 80yo passenger in serious condition'),\n Row(publish_date=20130716, headline_text='icac hears phone tap outlining sydney mayors plan to crucify general manager')]"
     },
     "execution_count": 14,
     "metadata": {},
     "output_type": "execute_result"
    }
   ],
   "source": [
    "%time spark.sql(r\"SELECT * FROM table\").where(\"length(headline_text)>75\").collect()"
   ]
  },
  {
   "cell_type": "code",
   "execution_count": 28,
   "metadata": {},
   "outputs": [
    {
     "name": "stdout",
     "output_type": "stream",
     "text": "Wall time: 852 ms\n"
    },
    {
     "data": {
      "text/html": "<div>\n<style scoped>\n    .dataframe tbody tr th:only-of-type {\n        vertical-align: middle;\n    }\n\n    .dataframe tbody tr th {\n        vertical-align: top;\n    }\n\n    .dataframe thead th {\n        text-align: right;\n    }\n</style>\n<table border=\"1\" class=\"dataframe\">\n  <thead>\n    <tr style=\"text-align: right;\">\n      <th></th>\n      <th>publish_date</th>\n      <th>headline_text</th>\n    </tr>\n  </thead>\n  <tbody>\n    <tr>\n      <th>788614</th>\n      <td>20130522</td>\n      <td>84yo dead after crashing into sydney house 80y...</td>\n    </tr>\n    <tr>\n      <th>803047</th>\n      <td>20130716</td>\n      <td>icac hears phone tap outlining sydney mayors p...</td>\n    </tr>\n  </tbody>\n</table>\n</div>",
      "text/plain": "        publish_date                                      headline_text\n788614      20130522  84yo dead after crashing into sydney house 80y...\n803047      20130716  icac hears phone tap outlining sydney mayors p..."
     },
     "execution_count": 28,
     "metadata": {},
     "output_type": "execute_result"
    }
   ],
   "source": [
    "%time dfp[dfp['headline_text'].str.len()>75]"
   ]
  },
  {
   "cell_type": "code",
   "execution_count": 15,
   "metadata": {},
   "outputs": [
    {
     "data": {
      "text/plain": "1"
     },
     "execution_count": 15,
     "metadata": {},
     "output_type": "execute_result"
    }
   ],
   "source": [
    "dfs.rdd.getNumPartitions()"
   ]
  },
  {
   "cell_type": "code",
   "execution_count": 16,
   "metadata": {},
   "outputs": [
    {
     "data": {
      "text/plain": "'million-headlines\\\\abcnews-date-text.csv'"
     },
     "execution_count": 16,
     "metadata": {},
     "output_type": "execute_result"
    }
   ],
   "source": [
    "f_path"
   ]
  },
  {
   "cell_type": "code",
   "execution_count": 49,
   "metadata": {},
   "outputs": [],
   "source": [
    "# rdd = sc.textFile(f_path)\n",
    "# rdd.take(5)"
   ]
  },
  {
   "cell_type": "code",
   "execution_count": 51,
   "metadata": {},
   "outputs": [],
   "source": [
    "def filter_by_len(x):\n",
    "    return len(x.split(',')[1])>75\n"
   ]
  },
  {
   "cell_type": "code",
   "execution_count": 52,
   "metadata": {},
   "outputs": [
    {
     "name": "stdout",
     "output_type": "stream",
     "text": "Wall time: 9.08 s\n"
    },
    {
     "data": {
      "text/plain": "['20130522,84yo dead after crashing into sydney house 80yo passenger in serious condition',\n '20130716,icac hears phone tap outlining sydney mayors plan to crucify general manager']"
     },
     "execution_count": 52,
     "metadata": {},
     "output_type": "execute_result"
    }
   ],
   "source": [
    "# %time rdd.filter(lambda x: filter_by_len(x)).collect()"
   ]
  },
  {
   "cell_type": "code",
   "execution_count": 53,
   "metadata": {},
   "outputs": [
    {
     "data": {
      "text/plain": "2"
     },
     "execution_count": 53,
     "metadata": {},
     "output_type": "execute_result"
    }
   ],
   "source": [
    "# rdd.getNumPartitions()"
   ]
  },
  {
   "cell_type": "code",
   "execution_count": 17,
   "metadata": {},
   "outputs": [
    {
     "data": {
      "text/plain": "[Row(publish_date=20030219, headline_text='aba decides against community broadcasting licence'),\n Row(publish_date=20030219, headline_text='act fire witnesses must be aware of defamation'),\n Row(publish_date=20030219, headline_text='a g calls for infrastructure protection summit'),\n Row(publish_date=20030219, headline_text='air nz staff in aust strike for pay rise'),\n Row(publish_date=20030219, headline_text='air nz strike to affect australian travellers')]"
     },
     "execution_count": 17,
     "metadata": {},
     "output_type": "execute_result"
    }
   ],
   "source": [
    "dfs.take(5)"
   ]
  },
  {
   "cell_type": "code",
   "execution_count": 18,
   "metadata": {},
   "outputs": [],
   "source": [
    "tokenizer = Tokenizer(inputCol=\"headline_text\", outputCol = \"words\")"
   ]
  },
  {
   "cell_type": "code",
   "execution_count": 19,
   "metadata": {},
   "outputs": [],
   "source": [
    "regextokenizer = RegexTokenizer(inputCol=\"headline_text\", outputCol = \"words\", pattern=\"\\\\w\")"
   ]
  },
  {
   "cell_type": "code",
   "execution_count": 20,
   "metadata": {},
   "outputs": [],
   "source": [
    "countTokens = udf(lambda words: len(words), IntegerType())"
   ]
  },
  {
   "cell_type": "code",
   "execution_count": 22,
   "metadata": {},
   "outputs": [],
   "source": [
    "tokenized = tokenizer.transform(dfs)\n"
   ]
  },
  {
   "cell_type": "code",
   "execution_count": 23,
   "metadata": {},
   "outputs": [
    {
     "data": {
      "text/plain": "DataFrame[publish_date: int, headline_text: string, words: array<string>]"
     },
     "execution_count": 23,
     "metadata": {},
     "output_type": "execute_result"
    }
   ],
   "source": [
    "tokenized"
   ]
  },
  {
   "cell_type": "code",
   "execution_count": 26,
   "metadata": {},
   "outputs": [
    {
     "name": "stdout",
     "output_type": "stream",
     "text": "+------------+--------------------+--------------------+------+\n|publish_date|       headline_text|               words|tokens|\n+------------+--------------------+--------------------+------+\n|    20030219|aba decides again...|[aba, decides, ag...|     6|\n|    20030219|act fire witnesse...|[act, fire, witne...|     8|\n|    20030219|a g calls for inf...|[a, g, calls, for...|     7|\n|    20030219|air nz staff in a...|[air, nz, staff, ...|     9|\n|    20030219|air nz strike to ...|[air, nz, strike,...|     7|\n|    20030219|ambitious olsson ...|[ambitious, olsso...|     5|\n|    20030219|antic delighted w...|[antic, delighted...|     6|\n|    20030219|aussie qualifier ...|[aussie, qualifie...|     7|\n|    20030219|aust addresses un...|[aust, addresses,...|     7|\n|    20030219|australia is lock...|[australia, is, l...|     7|\n|    20030219|australia to cont...|[australia, to, c...|     9|\n|    20030219|barca take record...|[barca, take, rec...|     8|\n|    20030219|bathhouse plans m...|[bathhouse, plans...|     4|\n|    20030219|big hopes for lau...|[big, hopes, for,...|     6|\n|    20030219|big plan to boost...|[big, plan, to, b...|     7|\n|    20030219|blizzard buries u...|[blizzard, buries...|     6|\n|    20030219|brigadier dismiss...|[brigadier, dismi...|     6|\n|    20030219|british combat tr...|[british, combat,...|     7|\n|    20030219|bryant leads lake...|[bryant, leads, l...|     7|\n|    20030219|bushfire victims ...|[bushfire, victim...|     6|\n+------------+--------------------+--------------------+------+\nonly showing top 20 rows\n\n"
    }
   ],
   "source": [
    "tokenized.withColumn(\"tokens\", countTokens(col(\"words\"))).show()"
   ]
  },
  {
   "cell_type": "code",
   "execution_count": 24,
   "metadata": {},
   "outputs": [
    {
     "name": "stdout",
     "output_type": "stream",
     "text": "+--------------------------------------------------+-----------------------------------------------------------+------+\n|headline_text                                     |words                                                      |tokens|\n+--------------------------------------------------+-----------------------------------------------------------+------+\n|aba decides against community broadcasting licence|[aba, decides, against, community, broadcasting, licence]  |6     |\n|act fire witnesses must be aware of defamation    |[act, fire, witnesses, must, be, aware, of, defamation]    |8     |\n|a g calls for infrastructure protection summit    |[a, g, calls, for, infrastructure, protection, summit]     |7     |\n|air nz staff in aust strike for pay rise          |[air, nz, staff, in, aust, strike, for, pay, rise]         |9     |\n|air nz strike to affect australian travellers     |[air, nz, strike, to, affect, australian, travellers]      |7     |\n|ambitious olsson wins triple jump                 |[ambitious, olsson, wins, triple, jump]                    |5     |\n|antic delighted with record breaking barca        |[antic, delighted, with, record, breaking, barca]          |6     |\n|aussie qualifier stosur wastes four memphis match |[aussie, qualifier, stosur, wastes, four, memphis, match]  |7     |\n|aust addresses un security council over iraq      |[aust, addresses, un, security, council, over, iraq]       |7     |\n|australia is locked into war timetable opp        |[australia, is, locked, into, war, timetable, opp]         |7     |\n|australia to contribute 10 million in aid to iraq |[australia, to, contribute, 10, million, in, aid, to, iraq]|9     |\n|barca take record as robson celebrates birthday in|[barca, take, record, as, robson, celebrates, birthday, in]|8     |\n|bathhouse plans move ahead                        |[bathhouse, plans, move, ahead]                            |4     |\n|big hopes for launceston cycling championship     |[big, hopes, for, launceston, cycling, championship]       |6     |\n|big plan to boost paroo water supplies            |[big, plan, to, boost, paroo, water, supplies]             |7     |\n|blizzard buries united states in bills            |[blizzard, buries, united, states, in, bills]              |6     |\n|brigadier dismisses reports troops harassed in    |[brigadier, dismisses, reports, troops, harassed, in]      |6     |\n|british combat troops arriving daily in kuwait    |[british, combat, troops, arriving, daily, in, kuwait]     |7     |\n|bryant leads lakers to double overtime win        |[bryant, leads, lakers, to, double, overtime, win]         |7     |\n|bushfire victims urged to see centrelink          |[bushfire, victims, urged, to, see, centrelink]            |6     |\n+--------------------------------------------------+-----------------------------------------------------------+------+\nonly showing top 20 rows\n\n"
    }
   ],
   "source": [
    "tokenized.select(\"headline_text\", \"words\")\\\n",
    "    .withColumn(\"tokens\", countTokens(col(\"words\"))).show(truncate=False)"
   ]
  },
  {
   "cell_type": "code",
   "execution_count": 73,
   "metadata": {},
   "outputs": [
    {
     "name": "stdout",
     "output_type": "stream",
     "text": "+--------------------------------------------------+------------------------+------+\n|headline_text                                     |words                   |tokens|\n+--------------------------------------------------+------------------------+------+\n|aba decides against community broadcasting licence|[ ,  ,  ,  ,  ]         |5     |\n|act fire witnesses must be aware of defamation    |[ ,  ,  ,  ,  ,  ,  ]   |7     |\n|a g calls for infrastructure protection summit    |[ ,  ,  ,  ,  ,  ]      |6     |\n|air nz staff in aust strike for pay rise          |[ ,  ,  ,  ,  ,  ,  ,  ]|8     |\n|air nz strike to affect australian travellers     |[ ,  ,  ,  ,  ,  ]      |6     |\n|ambitious olsson wins triple jump                 |[ ,  ,  ,  ]            |4     |\n|antic delighted with record breaking barca        |[ ,  ,  ,  ,  ]         |5     |\n|aussie qualifier stosur wastes four memphis match |[ ,  ,  ,  ,  ,  ]      |6     |\n|aust addresses un security council over iraq      |[ ,  ,  ,  ,  ,  ]      |6     |\n|australia is locked into war timetable opp        |[ ,  ,  ,  ,  ,  ]      |6     |\n|australia to contribute 10 million in aid to iraq |[ ,  ,  ,  ,  ,  ,  ,  ]|8     |\n|barca take record as robson celebrates birthday in|[ ,  ,  ,  ,  ,  ,  ]   |7     |\n|bathhouse plans move ahead                        |[ ,  ,  ]               |3     |\n|big hopes for launceston cycling championship     |[ ,  ,  ,  ,  ]         |5     |\n|big plan to boost paroo water supplies            |[ ,  ,  ,  ,  ,  ]      |6     |\n|blizzard buries united states in bills            |[ ,  ,  ,  ,  ]         |5     |\n|brigadier dismisses reports troops harassed in    |[ ,  ,  ,  ,  ]         |5     |\n|british combat troops arriving daily in kuwait    |[ ,  ,  ,  ,  ,  ]      |6     |\n|bryant leads lakers to double overtime win        |[ ,  ,  ,  ,  ,  ]      |6     |\n|bushfire victims urged to see centrelink          |[ ,  ,  ,  ,  ]         |5     |\n+--------------------------------------------------+------------------------+------+\nonly showing top 20 rows\n\n"
    }
   ],
   "source": [
    "regexTokenized = regextokenizer.transform(dfs)\n",
    "regexTokenized.select(\"headline_text\", \"words\") \\\n",
    "    .withColumn(\"tokens\", countTokens(col(\"words\"))).show(truncate=False)"
   ]
  },
  {
   "cell_type": "code",
   "execution_count": 74,
   "metadata": {},
   "outputs": [
    {
     "name": "stdout",
     "output_type": "stream",
     "text": "+--------------------+--------------------+------+\n|       headline_text|               words|tokens|\n+--------------------+--------------------+------+\n|aba decides again...|     [ ,  ,  ,  ,  ]|     5|\n|act fire witnesse...|[ ,  ,  ,  ,  ,  ...|     7|\n|a g calls for inf...|  [ ,  ,  ,  ,  ,  ]|     6|\n|air nz staff in a...|[ ,  ,  ,  ,  ,  ...|     8|\n|air nz strike to ...|  [ ,  ,  ,  ,  ,  ]|     6|\n|ambitious olsson ...|        [ ,  ,  ,  ]|     4|\n|antic delighted w...|     [ ,  ,  ,  ,  ]|     5|\n|aussie qualifier ...|  [ ,  ,  ,  ,  ,  ]|     6|\n|aust addresses un...|  [ ,  ,  ,  ,  ,  ]|     6|\n|australia is lock...|  [ ,  ,  ,  ,  ,  ]|     6|\n|australia to cont...|[ ,  ,  ,  ,  ,  ...|     8|\n|barca take record...|[ ,  ,  ,  ,  ,  ...|     7|\n|bathhouse plans m...|           [ ,  ,  ]|     3|\n|big hopes for lau...|     [ ,  ,  ,  ,  ]|     5|\n|big plan to boost...|  [ ,  ,  ,  ,  ,  ]|     6|\n|blizzard buries u...|     [ ,  ,  ,  ,  ]|     5|\n|brigadier dismiss...|     [ ,  ,  ,  ,  ]|     5|\n|british combat tr...|  [ ,  ,  ,  ,  ,  ]|     6|\n|bryant leads lake...|  [ ,  ,  ,  ,  ,  ]|     6|\n|bushfire victims ...|     [ ,  ,  ,  ,  ]|     5|\n+--------------------+--------------------+------+\nonly showing top 20 rows\n\n"
    }
   ],
   "source": [
    "regexTokenized.select(\"headline_text\", \"words\") \\\n",
    "    .withColumn(\"tokens\", countTokens(col(\"words\"))).show()"
   ]
  },
  {
   "cell_type": "code",
   "execution_count": 27,
   "metadata": {},
   "outputs": [
    {
     "name": "stderr",
     "output_type": "stream",
     "text": "DEBUG:py4j.java_gateway:Command to send: r\nu\nSparkConf\nrj\ne\n\nDEBUG:py4j.java_gateway:Answer received: !ycorg.apache.spark.SparkConf\nDEBUG:py4j.java_gateway:Command to send: i\norg.apache.spark.SparkConf\nbTrue\ne\n\nDEBUG:py4j.java_gateway:Answer received: !yro89\nDEBUG:py4j.java_gateway:Command to send: c\no89\nset\nsspark.master\nslocal\ne\n\nDEBUG:py4j.java_gateway:Answer received: !yro90\nDEBUG:py4j.java_gateway:Command to send: m\nd\no90\ne\n\nDEBUG:py4j.java_gateway:Answer received: !yv\nDEBUG:py4j.java_gateway:Command to send: c\no89\nset\nsspark.app.name\nsMy app\ne\n\nDEBUG:py4j.java_gateway:Answer received: !yro91\nDEBUG:py4j.java_gateway:Command to send: m\nd\no91\ne\n\nDEBUG:py4j.java_gateway:Answer received: !yv\nDEBUG:py4j.java_gateway:Command to send: c\no89\nset\nsspark.executor.memory\ns1g\ne\n\nDEBUG:py4j.java_gateway:Answer received: !yro92\nDEBUG:py4j.java_gateway:Command to send: m\nd\no92\ne\n\nDEBUG:py4j.java_gateway:Answer received: !yv\nDEBUG:py4j.java_gateway:Command to send: c\no89\nset\nsspark.driver.extraClassPath\nssqljdbc_8.2/enu/mssql-jdbc-8.2.0.jre8.jar\ne\n\nDEBUG:py4j.java_gateway:Answer received: !yro93\nDEBUG:py4j.java_gateway:Command to send: m\nd\no93\ne\n\nDEBUG:py4j.java_gateway:Answer received: !yv\n  None\n1\n"
    },
    {
     "ename": "ValueError",
     "evalue": "Cannot run multiple SparkContexts at once; existing SparkContext(app=My app, master=local) created by __init__ at <ipython-input-6-e1df8a03791e>:5 ",
     "output_type": "error",
     "traceback": [
      "\u001b[1;31m---------------------------------------------------------------------------\u001b[0m",
      "\u001b[1;31mValueError\u001b[0m                                Traceback (most recent call last)",
      "\u001b[1;32m<ipython-input-27-da7492ad0ec9>\u001b[0m in \u001b[0;36m<module>\u001b[1;34m\u001b[0m\n\u001b[1;32m----> 1\u001b[1;33m \u001b[1;32mfrom\u001b[0m \u001b[0mspark\u001b[0m\u001b[1;33m.\u001b[0m\u001b[0mml\u001b[0m\u001b[1;33m.\u001b[0m\u001b[0mfeature\u001b[0m \u001b[1;32mimport\u001b[0m \u001b[0mPipeline\u001b[0m\u001b[1;33m\u001b[0m\u001b[1;33m\u001b[0m\u001b[0m\n\u001b[0m",
      "\u001b[1;32mc:\\SADB\\Automation\\Retail\\DataCollection\\Common PY Scripts\\spark.py\u001b[0m in \u001b[0;36m<module>\u001b[1;34m\u001b[0m\n\u001b[0;32m     36\u001b[0m         .set(\"spark.driver.extraClassPath\",\n\u001b[0;32m     37\u001b[0m         \"sqljdbc_8.2/enu/mssql-jdbc-8.2.0.jre8.jar\"))\n\u001b[1;32m---> 38\u001b[1;33m \u001b[0msc\u001b[0m \u001b[1;33m=\u001b[0m \u001b[0mSparkContext\u001b[0m\u001b[1;33m(\u001b[0m\u001b[0mconf\u001b[0m\u001b[1;33m=\u001b[0m\u001b[0mconf\u001b[0m\u001b[1;33m)\u001b[0m\u001b[1;33m\u001b[0m\u001b[1;33m\u001b[0m\u001b[0m\n\u001b[0m\u001b[0;32m     39\u001b[0m \u001b[1;33m\u001b[0m\u001b[0m\n\u001b[0;32m     40\u001b[0m \u001b[0mjdbcHostname\u001b[0m \u001b[1;33m=\u001b[0m \u001b[1;34m\"gvs81287.inc.hpicorp.net\"\u001b[0m\u001b[1;33m\u001b[0m\u001b[1;33m\u001b[0m\u001b[0m\n",
      "\u001b[1;32mC:\\spark\\spark-3.0.0-preview2-bin-hadoop2.7\\python\\pyspark\\context.py\u001b[0m in \u001b[0;36m__init__\u001b[1;34m(self, master, appName, sparkHome, pyFiles, environment, batchSize, serializer, conf, gateway, jsc, profiler_cls)\u001b[0m\n\u001b[0;32m    125\u001b[0m                 \" is not allowed as it is a security risk.\")\n\u001b[0;32m    126\u001b[0m \u001b[1;33m\u001b[0m\u001b[0m\n\u001b[1;32m--> 127\u001b[1;33m         \u001b[0mSparkContext\u001b[0m\u001b[1;33m.\u001b[0m\u001b[0m_ensure_initialized\u001b[0m\u001b[1;33m(\u001b[0m\u001b[0mself\u001b[0m\u001b[1;33m,\u001b[0m \u001b[0mgateway\u001b[0m\u001b[1;33m=\u001b[0m\u001b[0mgateway\u001b[0m\u001b[1;33m,\u001b[0m \u001b[0mconf\u001b[0m\u001b[1;33m=\u001b[0m\u001b[0mconf\u001b[0m\u001b[1;33m)\u001b[0m\u001b[1;33m\u001b[0m\u001b[1;33m\u001b[0m\u001b[0m\n\u001b[0m\u001b[0;32m    128\u001b[0m         \u001b[1;32mtry\u001b[0m\u001b[1;33m:\u001b[0m\u001b[1;33m\u001b[0m\u001b[1;33m\u001b[0m\u001b[0m\n\u001b[0;32m    129\u001b[0m             self._do_init(master, appName, sparkHome, pyFiles, environment, batchSize, serializer,\n",
      "\u001b[1;32mC:\\spark\\spark-3.0.0-preview2-bin-hadoop2.7\\python\\pyspark\\context.py\u001b[0m in \u001b[0;36m_ensure_initialized\u001b[1;34m(cls, instance, gateway, conf)\u001b[0m\n\u001b[0;32m    333\u001b[0m                         \u001b[1;34m\" created by %s at %s:%s \"\u001b[0m\u001b[1;33m\u001b[0m\u001b[1;33m\u001b[0m\u001b[0m\n\u001b[0;32m    334\u001b[0m                         % (currentAppName, currentMaster,\n\u001b[1;32m--> 335\u001b[1;33m                             callsite.function, callsite.file, callsite.linenum))\n\u001b[0m\u001b[0;32m    336\u001b[0m                 \u001b[1;32melse\u001b[0m\u001b[1;33m:\u001b[0m\u001b[1;33m\u001b[0m\u001b[1;33m\u001b[0m\u001b[0m\n\u001b[0;32m    337\u001b[0m                     \u001b[0mSparkContext\u001b[0m\u001b[1;33m.\u001b[0m\u001b[0m_active_spark_context\u001b[0m \u001b[1;33m=\u001b[0m \u001b[0minstance\u001b[0m\u001b[1;33m\u001b[0m\u001b[1;33m\u001b[0m\u001b[0m\n",
      "\u001b[1;31mValueError\u001b[0m: Cannot run multiple SparkContexts at once; existing SparkContext(app=My app, master=local) created by __init__ at <ipython-input-6-e1df8a03791e>:5 "
     ]
    }
   ],
   "source": [
    "from spark.ml.feature import Pipeline"
   ]
  },
  {
   "cell_type": "code",
   "execution_count": null,
   "metadata": {},
   "outputs": [],
   "source": [
    "ner_dl = NerDLModel.pretrained(‘ner_dl’)"
   ]
  },
  {
   "cell_type": "code",
   "execution_count": null,
   "metadata": {},
   "outputs": [],
   "source": [
    "b"
   ]
  },
  {
   "cell_type": "code",
   "execution_count": null,
   "metadata": {},
   "outputs": [],
   "source": []
  },
  {
   "cell_type": "code",
   "execution_count": null,
   "metadata": {},
   "outputs": [],
   "source": []
  },
  {
   "cell_type": "code",
   "execution_count": null,
   "metadata": {},
   "outputs": [],
   "source": []
  },
  {
   "cell_type": "code",
   "execution_count": null,
   "metadata": {},
   "outputs": [],
   "source": []
  }
 ],
 "metadata": {
  "kernelspec": {
   "display_name": "Python 3",
   "language": "python",
   "name": "python3"
  },
  "language_info": {
   "codemirror_mode": {
    "name": "ipython",
    "version": 3
   },
   "file_extension": ".py",
   "mimetype": "text/x-python",
   "name": "python",
   "nbconvert_exporter": "python",
   "pygments_lexer": "ipython3",
   "version": "3.7.5-final"
  }
 },
 "nbformat": 4,
 "nbformat_minor": 2
}